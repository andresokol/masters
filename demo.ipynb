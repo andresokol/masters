{
 "cells": [
  {
   "cell_type": "code",
   "execution_count": 1,
   "metadata": {
    "pycharm": {
     "name": "#%%\n"
    }
   },
   "outputs": [],
   "source": [
    "import os.path\n",
    "import time\n",
    "import re\n",
    "\n",
    "import torch\n",
    "import torch.nn as nn\n",
    "import torch.nn.functional as F"
   ]
  },
  {
   "cell_type": "code",
   "execution_count": 2,
   "metadata": {
    "pycharm": {
     "name": "#%%\n"
    },
    "scrolled": true
   },
   "outputs": [
    {
     "name": "stdout",
     "output_type": "stream",
     "text": [
      "Using cuda device\n"
     ]
    }
   ],
   "source": [
    "# cuda_available = torch.cuda.is_available()\n",
    "# dev = torch.device(\"cuda\") if torch.cuda.is_available() else torch.device(\"cpu\")\n",
    "\n",
    "device = \"cuda\" if torch.cuda.is_available() else \"cpu\"\n",
    "Tensor = torch.cuda.FloatTensor if torch.cuda.is_available() else torch.Tensor\n",
    "print(f\"Using {device} device\")\n",
    "\n",
    "# torch.cuda.empty_cache()\n",
    "\n",
    "# Tensor = torch.Tensor\n",
    "# device = torch.device(\"cpu\")"
   ]
  },
  {
   "cell_type": "code",
   "execution_count": 3,
   "metadata": {},
   "outputs": [],
   "source": [
    "import torchvision\n",
    "import tqdm"
   ]
  },
  {
   "cell_type": "code",
   "execution_count": 4,
   "metadata": {},
   "outputs": [],
   "source": [
    "from torch.utils.data import Dataset\n",
    "from PIL import Image\n",
    "import numpy as np\n",
    "import torchvision.transforms as transforms\n",
    "\n",
    "FFHQ_DIR = \"/home/andresokol/data/compressed\"\n",
    "STRUCTURE_ROOT = f\"/home/andresokol/data/orientation\"\n",
    "RENDERED_ROOT = f\"/home/andresokol/rendered/v1\"\n",
    "MASK_ROOT = f\"/home/andresokol/data/masks\""
   ]
  },
  {
   "cell_type": "code",
   "execution_count": 5,
   "metadata": {
    "pycharm": {
     "name": "#%%\n"
    }
   },
   "outputs": [],
   "source": [
    "class DownsampleBlock(nn.Module):\n",
    "    def __init__(self):\n",
    "        super().__init__()\n",
    "\n",
    "        def _block(channels_in, channels_out):\n",
    "            return [\n",
    "                nn.Conv2d(channels_in, channels_out, kernel_size=3, padding=1, stride=2),\n",
    "                nn.ReLU(),\n",
    "            ]\n",
    "\n",
    "        self.layers = nn.Sequential(\n",
    "            *_block(3, 6),\n",
    "            *_block(6, 12),\n",
    "            *_block(12, 24),\n",
    "            *_block(24, 48),\n",
    "            *_block(48, 48),\n",
    "        )\n",
    "#         self.layers = nn.Sequential(\n",
    "#             *_block(3, 3),\n",
    "#             *_block(3, 3),\n",
    "#             *_block(3, 3),\n",
    "#             *_block(3, 3),\n",
    "#             *_block(3, 3),\n",
    "#         )\n",
    "\n",
    "    def forward(self, x: Tensor) -> Tensor:\n",
    "        return self.layers(x)"
   ]
  },
  {
   "cell_type": "code",
   "execution_count": 6,
   "metadata": {
    "pycharm": {
     "name": "#%%\n"
    }
   },
   "outputs": [],
   "source": [
    "# PyTorch version of ResNet\n",
    "# https://github.com/pytorch/vision/blob/cddad9ca3822011548e18342f52a3e9f4724c2dd/torchvision/models/resnet.py#L88\n",
    "\n",
    "\n",
    "class ResBlk(nn.Module):\n",
    "    def __init__(self, channels) -> None:\n",
    "        super().__init__()\n",
    "        self.conv_1 = nn.Conv2d(channels, channels, kernel_size=3, stride=1, padding=1)\n",
    "        self.batch_norm_1 = nn.BatchNorm2d(channels)\n",
    "        self.conv_2 = nn.Conv2d(channels, channels, kernel_size=3, stride=1, padding=1)\n",
    "        self.batch_norm_2 = nn.BatchNorm2d(channels)\n",
    "        self.relu = nn.ReLU(inplace=True)\n",
    "\n",
    "    def forward(self, x: Tensor) -> Tensor:\n",
    "        out = self.conv_1(x)\n",
    "        out = self.batch_norm_1(out)\n",
    "        out = self.relu(out)\n",
    "\n",
    "        out = self.conv_2(out)\n",
    "        out = self.batch_norm_2(out)\n",
    "\n",
    "        out += x\n",
    "        out = self.relu(out)\n",
    "\n",
    "        return out"
   ]
  },
  {
   "cell_type": "code",
   "execution_count": 7,
   "metadata": {
    "pycharm": {
     "name": "#%%\n"
    }
   },
   "outputs": [],
   "source": [
    "# E_f = nn.Sequential(\n",
    "#     DownsampleBlock(),\n",
    "#     *(ResBlk() for _ in range(4)),\n",
    "# ).to(device)\n",
    "\n",
    "# E_r = nn.Sequential(\n",
    "#     DownsampleBlock(),\n",
    "#     *(ResBlk() for _ in range(4)),\n",
    "# ).to(device)\n",
    "\n",
    "# E_ = nn.Sequential(\n",
    "#     ResBlk(),\n",
    "#     ResBlk(),\n",
    "# ).to(device)"
   ]
  },
  {
   "cell_type": "code",
   "execution_count": 8,
   "metadata": {
    "pycharm": {
     "name": "#%%\n"
    }
   },
   "outputs": [],
   "source": [
    "class GeneratorFake(nn.Module):\n",
    "    def __init__(self):\n",
    "        super().__init__()\n",
    "\n",
    "        def _upscale_conv(channels_in, channels_out):\n",
    "            return (\n",
    "                nn.BatchNorm2d(channels_in),\n",
    "                nn.ConvTranspose2d(channels_in, channels_out, kernel_size=3, stride=2, padding=1, output_padding=1),  # is this correct?\n",
    "                nn.LeakyReLU(),\n",
    "            )\n",
    "\n",
    "        self.resblk1 = ResBlk(48)\n",
    "        self.resblk2 = ResBlk(48)\n",
    "        self.upscale_layers = nn.Sequential(\n",
    "            *_upscale_conv(48, 48),\n",
    "            *_upscale_conv(48, 24),\n",
    "            *_upscale_conv(24, 12),\n",
    "            *_upscale_conv(12, 6),\n",
    "            *_upscale_conv(6, 3),\n",
    "        )\n",
    "#         self.upscale_layers = nn.Sequential(\n",
    "#             *_upscale_conv(3, 3),\n",
    "#             *_upscale_conv(3, 3),\n",
    "#             *_upscale_conv(3, 3),\n",
    "#             *_upscale_conv(3, 3),\n",
    "#             *_upscale_conv(3, 3),\n",
    "#         )\n",
    "\n",
    "        self.out_conv = nn.Conv2d(3, 3, kernel_size=3, stride=1, padding=1)\n",
    "\n",
    "    def forward(self, x: Tensor) -> Tensor:\n",
    "        out = self.resblk1(x)\n",
    "        out = self.resblk2(out)\n",
    "        out = self.upscale_layers(out)\n",
    "        # print(out.shape)\n",
    "\n",
    "        # for i in range(5):\n",
    "        #     out = self.upscale_layers[i](out)\n",
    "        # print(out.shape)\n",
    "\n",
    "        return torch.tanh(self.out_conv(out))\n",
    "\n",
    "\n",
    "# G_f = GeneratorFake().to(device)\n",
    "# G_f = nn.Sequential(\n",
    "#     *(ResBlk() for _ in range(2)),\n",
    "#     *(nn.ConvTranspose2d(3, 3, kernel_size=3, stride=2, padding=1) for _ in range(5)),\n",
    "#     # nn.Conv2d(3, 3, kernel_size=3, stride=1, padding=1),\n",
    "# )"
   ]
  },
  {
   "cell_type": "code",
   "execution_count": 9,
   "metadata": {
    "pycharm": {
     "name": "#%%\n"
    }
   },
   "outputs": [],
   "source": [
    "# from https://github.com/NVlabs/SPADE\n",
    "\n",
    "# Creates SPADE normalization layer based on the given configuration\n",
    "# SPADE consists of two steps. First, it normalizes the activations using\n",
    "# your favorite normalization method, such as Batch Norm or Instance Norm.\n",
    "# Second, it applies scale and bias to the normalized output, conditioned on\n",
    "# the segmentation map.\n",
    "# The format of |config_text| is spade(norm)(ks), where\n",
    "# (norm) specifies the type of parameter-free normalization.\n",
    "#       (e.g. syncbatch, batch, instance)\n",
    "# (ks) specifies the size of kernel in the SPADE module (e.g. 3x3)\n",
    "# Example |config_text| will be spadesyncbatch3x3, or spadeinstance5x5.\n",
    "# Also, the other arguments are\n",
    "# |norm_nc|: the #channels of the normalized activations, hence the output dim of SPADE\n",
    "# |label_nc|: the #channels of the input semantic map, hence the input dim of SPADE\n",
    "class SPADE(nn.Module):\n",
    "    def __init__(self, config_text, norm_nc, label_nc):\n",
    "        super().__init__()\n",
    "\n",
    "        assert config_text.startswith('spade')\n",
    "        parsed = re.search('spade(\\D+)(\\d)x\\d', config_text)\n",
    "        param_free_norm_type = str(parsed.group(1))\n",
    "        ks = int(parsed.group(2))\n",
    "\n",
    "        if param_free_norm_type == 'instance':\n",
    "            self.param_free_norm = nn.InstanceNorm2d(norm_nc, affine=False)\n",
    "        # elif param_free_norm_type == 'syncbatch':\n",
    "        #     self.param_free_norm = SynchronizedBatchNorm2d(norm_nc, affine=False)\n",
    "        elif param_free_norm_type == 'batch':\n",
    "            self.param_free_norm = nn.BatchNorm2d(norm_nc, affine=False)\n",
    "        else:\n",
    "            raise ValueError('%s is not a recognized param-free norm type in SPADE'\n",
    "                             % param_free_norm_type)\n",
    "\n",
    "        # The dimension of the intermediate embedding space. Yes, hardcoded.\n",
    "        nhidden = 128\n",
    "\n",
    "        pw = ks // 2\n",
    "        self.mlp_shared = nn.Sequential(\n",
    "            nn.Conv2d(label_nc, nhidden, kernel_size=ks, padding=pw),\n",
    "            nn.ReLU()\n",
    "        )\n",
    "        self.mlp_gamma = nn.Conv2d(nhidden, norm_nc, kernel_size=ks, padding=pw)\n",
    "        self.mlp_beta = nn.Conv2d(nhidden, norm_nc, kernel_size=ks, padding=pw)\n",
    "\n",
    "    def forward(self, x, segmap):\n",
    "\n",
    "        # Part 1. generate parameter-free normalized activations\n",
    "        normalized = self.param_free_norm(x)\n",
    "\n",
    "        # Part 2. produce scaling and bias conditioned on semantic map\n",
    "        segmap = F.interpolate(segmap, size=x.size()[2:], mode='nearest')\n",
    "        actv = self.mlp_shared(segmap)\n",
    "        gamma = self.mlp_gamma(actv)\n",
    "        beta = self.mlp_beta(actv)\n",
    "\n",
    "        # apply scale and bias\n",
    "        out = normalized * (1 + gamma) + beta\n",
    "\n",
    "        return out\n",
    "\n",
    "\n",
    "# ResNet block that uses SPADE.\n",
    "# It differs from the ResNet block of pix2pixHD in that\n",
    "# it takes in the segmentation map as input, learns the skip connection if necessary,\n",
    "# and applies normalization first and then convolution.\n",
    "# This architecture seemed like a standard architecture for unconditional or\n",
    "# class-conditional GAN architecture using residual block.\n",
    "# The code was inspired from https://github.com/LMescheder/GAN_stability.\n",
    "class SPADEResnetBlock(nn.Module):\n",
    "    def __init__(self, fin, fout):#, opt):\n",
    "        super().__init__()\n",
    "        # Attributes\n",
    "        self.learned_shortcut = (fin != fout)\n",
    "        fmiddle = min(fin, fout)\n",
    "\n",
    "        # create conv layers\n",
    "        self.conv_0 = nn.Conv2d(fin, fmiddle, kernel_size=3, padding=1)\n",
    "        self.conv_1 = nn.Conv2d(fmiddle, fout, kernel_size=3, padding=1)\n",
    "        if self.learned_shortcut:\n",
    "            self.conv_s = nn.Conv2d(fin, fout, kernel_size=1, bias=False)\n",
    "\n",
    "        # apply spectral norm if specified\n",
    "        # if 'spectral' in opt.norm_G:\n",
    "        #     self.conv_0 = spectral_norm(self.conv_0)\n",
    "        #     self.conv_1 = spectral_norm(self.conv_1)\n",
    "        #     if self.learned_shortcut:\n",
    "        #         self.conv_s = spectral_norm(self.conv_s)\n",
    "\n",
    "        # define normalization layers\n",
    "#         spade_config_str = opt.norm_G.replace('spectral', '')\n",
    "        spade_config_str = \"spadebatch3x3\"\n",
    "        self.norm_0 = SPADE(spade_config_str, fin, 3) #opt.semantic_nc)\n",
    "        self.norm_1 = SPADE(spade_config_str, fmiddle, 3) #opt.semantic_nc)\n",
    "        if self.learned_shortcut:\n",
    "            self.norm_s = SPADE(spade_config_str, fin, 3) #opt.semantic_nc)\n",
    "\n",
    "    # note the resnet block with SPADE also takes in |seg|,\n",
    "    # the semantic segmentation map as input\n",
    "    def forward(self, x, seg):\n",
    "        x_s = self.shortcut(x, seg)\n",
    "\n",
    "        dx = self.conv_0(self.actvn(self.norm_0(x, seg)))\n",
    "        dx = self.conv_1(self.actvn(self.norm_1(dx, seg)))\n",
    "\n",
    "        out = x_s + dx\n",
    "\n",
    "        return out\n",
    "\n",
    "    def shortcut(self, x, seg):\n",
    "        if self.learned_shortcut:\n",
    "            x_s = self.conv_s(self.norm_s(x, seg))\n",
    "        else:\n",
    "            x_s = x\n",
    "        return x_s\n",
    "\n",
    "    def actvn(self, x):\n",
    "        return F.leaky_relu(x, 2e-1)"
   ]
  },
  {
   "cell_type": "code",
   "execution_count": 10,
   "metadata": {
    "pycharm": {
     "name": "#%%\n"
    }
   },
   "outputs": [],
   "source": [
    "class GeneratorReal(nn.Module):\n",
    "    def __init__(self):\n",
    "        super().__init__()\n",
    "        \n",
    "        self.resblk1 = ResBlk()\n",
    "        self.resblk2 = ResBlk()\n",
    "\n",
    "        self.spade1 = SPADEResnetBlock(3, 3)\n",
    "        self.spade2 = SPADEResnetBlock(3, 3)\n",
    "        self.spade3 = SPADEResnetBlock(3, 3)\n",
    "        self.spade4 = SPADEResnetBlock(3, 3)\n",
    "        self.spade5 = SPADEResnetBlock(3, 3)\n",
    "        self.upsample = nn.Upsample(scale_factor=2)\n",
    "    \n",
    "    def forward(self, x: Tensor, seg: Tensor) -> Tensor:\n",
    "        out = self.resblk1(x)\n",
    "        out = self.resblk2(out)\n",
    "        \n",
    "        out = self.spade1(out, seg)\n",
    "        out = self.upsample(out)\n",
    "        \n",
    "        out = self.spade2(out, seg)\n",
    "        out = self.upsample(out)\n",
    "        \n",
    "        out = self.spade3(out, seg)\n",
    "        out = self.upsample(out)\n",
    "        \n",
    "        out = self.spade4(out, seg)\n",
    "        out = self.upsample(out)\n",
    "        \n",
    "        out = self.spade5(out, seg)\n",
    "        out = self.upsample(out)\n",
    "        \n",
    "        return torch.tanh(out)\n",
    "\n",
    "# G_r = GeneratorReal().to(device)"
   ]
  },
  {
   "cell_type": "code",
   "execution_count": 11,
   "metadata": {},
   "outputs": [],
   "source": [
    "class EncoderMaterial(nn.Module):\n",
    "    def __init__(self):\n",
    "        super().__init__()\n",
    "        \n",
    "        self.layers = nn.Sequential(\n",
    "            DownsampleBlock(),\n",
    "            nn.AvgPool2d(),\n",
    "        )\n",
    "    \n",
    "    def forward(self, x: Tensor, mask: Tensor):\n",
    "        out = self.layers(x)\n",
    "#         print(out.shape)\n",
    "#         print(mask.shape)\n",
    "#         print(Tensor([0]).shape)\n",
    "\n",
    "        return torch.where(mask, out, Tensor([0]))\n",
    "\n",
    "# E_m = EncoderMaterial().to(device)"
   ]
  },
  {
   "cell_type": "code",
   "execution_count": 12,
   "metadata": {},
   "outputs": [],
   "source": [
    "# emb = torch.rand((1, 3, 16, 16))\n",
    "# x = torch.rand((1, 3, 512, 512))\n",
    "\n",
    "# mask = torch.rand((1, 1, 512, 512)) > 0.5\n",
    "# mask\n",
    "\n",
    "# G_r(emb, E_m(x)).shape\n",
    "# E_m(x, mask)\n",
    "# x = torch.rand((1, 3, 1, 1))\n",
    "# x = x.expand(-1, -1, 4, 4)\n",
    "# x"
   ]
  },
  {
   "cell_type": "code",
   "execution_count": 13,
   "metadata": {
    "pycharm": {
     "name": "#%%\n"
    }
   },
   "outputs": [],
   "source": [
    "# VGG architecter, used for the perceptual loss using a pretrained VGG network\n",
    "class VGG19(torch.nn.Module):\n",
    "    def __init__(self, requires_grad=False):\n",
    "        super().__init__()\n",
    "        vgg_pretrained_features = torchvision.models.vgg19(pretrained=True).features\n",
    "        self.slice1 = torch.nn.Sequential()\n",
    "        self.slice2 = torch.nn.Sequential()\n",
    "        self.slice3 = torch.nn.Sequential()\n",
    "        self.slice4 = torch.nn.Sequential()\n",
    "        self.slice5 = torch.nn.Sequential()\n",
    "        for x in range(2):\n",
    "            self.slice1.add_module(str(x), vgg_pretrained_features[x])\n",
    "        for x in range(2, 7):\n",
    "            self.slice2.add_module(str(x), vgg_pretrained_features[x])\n",
    "        for x in range(7, 12):\n",
    "            self.slice3.add_module(str(x), vgg_pretrained_features[x])\n",
    "        for x in range(12, 21):\n",
    "            self.slice4.add_module(str(x), vgg_pretrained_features[x])\n",
    "        for x in range(21, 30):\n",
    "            self.slice5.add_module(str(x), vgg_pretrained_features[x])\n",
    "        if not requires_grad:\n",
    "            for param in self.parameters():\n",
    "                param.requires_grad = False\n",
    "\n",
    "    def forward(self, X):\n",
    "        h_relu1 = self.slice1(X)\n",
    "        h_relu2 = self.slice2(h_relu1)\n",
    "        h_relu3 = self.slice3(h_relu2)\n",
    "        h_relu4 = self.slice4(h_relu3)\n",
    "        h_relu5 = self.slice5(h_relu4)\n",
    "        out = [h_relu1, h_relu2, h_relu3, h_relu4, h_relu5]\n",
    "        return out\n",
    "\n",
    "# Perceptual loss that uses a pretrained VGG network\n",
    "class VGGLoss(nn.Module):\n",
    "    transforms = transforms.Compose([\n",
    "        transforms.Normalize(mean=[0., 0., 0.], std=[1/0.5, 1/0.5, 1/0.5]),\n",
    "        transforms.Normalize(mean=[-0.5, -0.5, -0.5], std=[1, 1, 1]),\n",
    "        transforms.Resize((224, 224)), # better without centercrop?\n",
    "        transforms.Normalize(mean=[0.485, 0.456, 0.406], std=[0.229, 0.224, 0.225]),\n",
    "    ])\n",
    "    \n",
    "    def __init__(self):\n",
    "        super(VGGLoss, self).__init__()\n",
    "        self.vgg = VGG19().to(device)\n",
    "        self.criterion = nn.L1Loss()\n",
    "        self.weights = [1.0 / 32, 1.0 / 16, 1.0 / 8, 1.0 / 4, 1.0]\n",
    "\n",
    "    def forward(self, x, y):\n",
    "        x_resized = self.transforms(x)\n",
    "        y_resized = self.transforms(y)\n",
    "        \n",
    "        x_vgg, y_vgg = self.vgg(x_resized), self.vgg(y_resized)\n",
    "        loss = 0\n",
    "        for i in range(len(x_vgg)):\n",
    "            loss += self.weights[i] * self.criterion(x_vgg[i], y_vgg[i].detach())\n",
    "        return loss"
   ]
  },
  {
   "cell_type": "code",
   "execution_count": 14,
   "metadata": {
    "pycharm": {
     "name": "#%%\n"
    }
   },
   "outputs": [],
   "source": [
    "# https://github.com/eriklindernoren/PyTorch-GAN/blob/master/implementations/stargan/models.py\n",
    "\n",
    "class Discriminator(nn.Module):\n",
    "    def __init__(self):\n",
    "        super().__init__()\n",
    "\n",
    "        def discriminator_block(in_filters, out_filters, normalization=True):\n",
    "            layers = [nn.Conv2d(in_filters, out_filters, 4, stride=2, padding=1)]\n",
    "            if normalization:\n",
    "                layers.append(nn.InstanceNorm2d(out_filters))\n",
    "            layers.append(nn.LeakyReLU(0.2, inplace=True))\n",
    "            return layers\n",
    "\n",
    "        self.layers = nn.Sequential(\n",
    "            *discriminator_block(3, 64, normalization=False),\n",
    "            *discriminator_block(64, 128),\n",
    "            *discriminator_block(128, 256),\n",
    "            *discriminator_block(256, 512),\n",
    "            nn.ZeroPad2d((1, 0, 1, 0)),\n",
    "            nn.Conv2d(512, 1, kernel_size=4, padding=1, bias=False),\n",
    "        )\n",
    "        self.layers2 = nn.Sequential(\n",
    "            nn.Flatten(),\n",
    "            #nn.Linear(1024, 1), # 512x512\n",
    "            nn.Linear(256, 1),  # 256x256\n",
    "        )\n",
    "\n",
    "    def forward(self, img: Tensor) -> Tensor:\n",
    "        # combined = torch.cat((img_a, img_b), dim=1)\n",
    "        # out = img\n",
    "        # # print(\"Discriminator start\", out.shape)\n",
    "        #\n",
    "        # for layer in self.layers:\n",
    "        #     out = layer(out)\n",
    "        #     # print(layer, out.shape)\n",
    "\n",
    "        out = self.layers(img)\n",
    "        out = self.layers2(out)\n",
    "        \n",
    "        return out"
   ]
  },
  {
   "cell_type": "code",
   "execution_count": 15,
   "metadata": {
    "pycharm": {
     "name": "#%%\n"
    }
   },
   "outputs": [],
   "source": [
    "# class EmbeddingDiscriminator(nn.Module):\n",
    "#     def __init__(self):\n",
    "#         super().__init__()\n",
    "#\n",
    "#         self.layers = nn.Sequential(\n",
    "#             nn.Flatten(),\n",
    "#             nn.Linear(3 * 16 * 16),\n",
    "#             nn.Linear()\n",
    "#         )"
   ]
  },
  {
   "cell_type": "code",
   "execution_count": 16,
   "metadata": {
    "pycharm": {
     "name": "#%%\n"
    }
   },
   "outputs": [],
   "source": [
    "class Options:\n",
    "    img_height = 256\n",
    "    img_width = 256\n",
    "    learning_rate = 0.0001  # from paper\n",
    "    starting_epoch = 0\n",
    "    total_epochs = 300\n",
    "    batch_size = 8\n",
    "    cpu_count = 2\n",
    "\n",
    "\n",
    "opt = Options()"
   ]
  },
  {
   "cell_type": "code",
   "execution_count": 17,
   "metadata": {
    "pycharm": {
     "name": "#%%\n"
    }
   },
   "outputs": [],
   "source": [
    "class ImageDataset(Dataset):\n",
    "    transform = transforms.Compose([\n",
    "        transforms.Resize((opt.img_height, opt.img_width), transforms.InterpolationMode.BICUBIC),\n",
    "        transforms.ToTensor(),\n",
    "        transforms.Normalize((0.5, 0.5, 0.5), (0.5, 0.5, 0.5)),\n",
    "    ])\n",
    "\n",
    "    def __init__(self, mode=\"train\"):\n",
    "        self.files = []\n",
    "\n",
    "        for i in range(70):\n",
    "            for j in range(1000):\n",
    "                img_dir = f\"{i:02}000\"\n",
    "                img_name = f\"{i:02}{j:03}\"\n",
    "                if os.path.exists(f\"{FFHQ_DIR}/{img_dir}/{img_name}.jpg\"):\n",
    "                    if os.path.exists(f\"{RENDERED_ROOT}/{img_dir}_{img_name}_base.png\"):\n",
    "                        if os.path.exists(f\"{RENDERED_ROOT}/{img_dir}_{img_name}_structure.png\"):\n",
    "                            self.files.append((img_dir, img_name))\n",
    "\n",
    "        print(f\"Read {len(self.files)} images\")\n",
    "        # self.files = sorted(glob.glob(os.path.join(root, mode) + \"/*.*\"))\n",
    "        # if mode == \"train\":\n",
    "        #     self.files.extend(sorted(glob.glob(os.path.join(root, \"test\") + \"/*.*\")))\n",
    "\n",
    "    def __getitem__(self, index):\n",
    "        img_dir, img_name = self.files[index % len(self.files)]\n",
    "        \n",
    "        photo = Image.open(f\"{FFHQ_DIR}/{img_dir}/{img_name}.jpg\")\n",
    "        photo.putalpha(255)\n",
    "\n",
    "        render_base = Image.open(f\"{RENDERED_ROOT}/{img_dir}_{img_name}_base.png\")\n",
    "        render_struct = Image.open(f\"{RENDERED_ROOT}/{img_dir}_{img_name}_structure.png\")\n",
    "\n",
    "        render_base = Image.alpha_composite(photo, render_base).convert(\"RGB\")\n",
    "        render_struct = Image.alpha_composite(photo, render_struct).convert(\"RGB\")\n",
    "        \n",
    "        photo_structure = Image.open(f\"{STRUCTURE_ROOT}/{img_dir}/{img_name}.png\")\n",
    "        \n",
    "        mask_structure = Image.open(f\"{MASK_ROOT}/{img_dir}/{img_name}.jpg\")\n",
    "        mask_structure = mask_structure.resize((opt.img_height, opt.img_width))\n",
    "        mask_structure = np.array(mask_structure) > 128\n",
    "\n",
    "        return {\n",
    "            \"photo_base\": self.transform(photo.convert(\"RGB\")),\n",
    "            \"photo_struct\": self.transform(photo_structure),\n",
    "            \"mask\": torch.from_numpy(mask_structure).permute((2, 0, 1)),\n",
    "            \"render_base\": self.transform(render_base),\n",
    "            \"render_struct\": self.transform(render_struct),\n",
    "        }\n",
    "\n",
    "    def __len__(self):\n",
    "        return len(self.files)"
   ]
  },
  {
   "cell_type": "code",
   "execution_count": 18,
   "metadata": {
    "pycharm": {
     "name": "#%%\n"
    }
   },
   "outputs": [
    {
     "name": "stdout",
     "output_type": "stream",
     "text": [
      "Read 10845 images\n"
     ]
    }
   ],
   "source": [
    "from torch.utils.data import DataLoader\n",
    "\n",
    "dataloader = DataLoader(\n",
    "    ImageDataset(),\n",
    "    batch_size=opt.batch_size,\n",
    "    num_workers=opt.cpu_count,\n",
    "    shuffle=True,\n",
    ")"
   ]
  },
  {
   "cell_type": "code",
   "execution_count": 19,
   "metadata": {
    "pycharm": {
     "name": "#%%\n"
    }
   },
   "outputs": [],
   "source": [
    "from torch.utils.tensorboard import SummaryWriter\n",
    "\n",
    "writer = SummaryWriter()"
   ]
  },
  {
   "cell_type": "code",
   "execution_count": 20,
   "metadata": {
    "pycharm": {
     "name": "#%%\n"
    },
    "scrolled": false
   },
   "outputs": [],
   "source": [
    "def weights_init_normal(m):\n",
    "    classname = m.__class__.__name__\n",
    "    print(classname)\n",
    "    if hasattr(m, 'weight') and m.weight is not None and classname.find(\"BatchNorm2d\") != -1:\n",
    "        torch.nn.init.normal_(m.weight.data, 1.0, 0.02)\n",
    "        torch.nn.init.constant_(m.bias.data, 0.0)\n",
    "    elif hasattr(m, 'weight') and (classname.find('Conv') != -1 or classname.find('Linear') != -1):\n",
    "        torch.nn.init.normal_(m.weight.data, 0.0, 0.02)\n",
    "        if hasattr(m, 'bias') and m.bias is not None:\n",
    "            torch.nn.init.constant_(m.bias.data, 0.0)"
   ]
  },
  {
   "cell_type": "code",
   "execution_count": 22,
   "metadata": {},
   "outputs": [],
   "source": [
    "def gan_loss(generated_scores: torch.Tensor,\n",
    "             real_scores: torch.Tensor,\n",
    "             for_generator: bool) -> torch.Tensor:\n",
    "    if for_generator:\n",
    "        return F.logsigmoid(-generated_scores).mean()\n",
    "    \n",
    "    return -F.logsigmoid(real_scores).mean() - F.logsigmoid(-generated_scores).mean()"
   ]
  },
  {
   "cell_type": "code",
   "execution_count": 23,
   "metadata": {},
   "outputs": [],
   "source": [
    "def discriminator_accuracy(generated_scores: torch.Tensor,\n",
    "                           real_scores: torch.Tensor) -> float:\n",
    "    return torch.cat((generated_scores < 0, real_scores > 0)).float().mean()"
   ]
  },
  {
   "cell_type": "code",
   "execution_count": 24,
   "metadata": {},
   "outputs": [],
   "source": [
    "def to_imgs(x: Tensor):\n",
    "    # normalize: x -> (x - mu) / sigma\n",
    "    # denormalize: x -> x * sigma + mu\n",
    "    img = x.cpu().detach().permute((0, 2, 3, 1)).numpy()\n",
    "    img = (img + 1) * 128\n",
    "    return img.astype(\"uint8\")"
   ]
  },
  {
   "cell_type": "code",
   "execution_count": 25,
   "metadata": {},
   "outputs": [],
   "source": [
    "def image_grid_to_writer(writer, x, label, iteration):\n",
    "    grid = torchvision.utils.make_grid(x, normalize=True)\n",
    "    writer.add_image(label, grid, iteration)"
   ]
  },
  {
   "cell_type": "code",
   "execution_count": 26,
   "metadata": {},
   "outputs": [],
   "source": [
    "class MySuperNetwork(nn.Module):\n",
    "    lambda_vgg = 10\n",
    "    \n",
    "    def __init__(self):\n",
    "        super().__init__()\n",
    "        self.E_f =  nn.Sequential(\n",
    "            DownsampleBlock(),\n",
    "            *(ResBlk(48) for _ in range(4)),\n",
    "        )\n",
    "        self.E_shared = nn.Sequential(\n",
    "            ResBlk(48),\n",
    "            ResBlk(48),\n",
    "        )\n",
    "        self.G_f = GeneratorFake()\n",
    "        self.D_f = Discriminator()\n",
    "        \n",
    "        self.vgg_loss = VGGLoss()\n",
    "\n",
    "    def create_optimizers(self, opt):\n",
    "        gan_params = list(self.E_f.parameters())\n",
    "        gan_params += list(self.E_shared.parameters())\n",
    "        gan_params += list(self.G_f.parameters())\n",
    "\n",
    "        disc_params = list(self.D_f.parameters())\n",
    "        \n",
    "        gan_optimizer = torch.optim.Adam(gan_params, lr=opt.learning_rate)\n",
    "        disc_optimizer = torch.optim.Adam(disc_params, lr=opt.learning_rate)\n",
    "\n",
    "        return gan_optimizer, disc_optimizer\n",
    "\n",
    "    def init_weights(self):\n",
    "        self.E_f.apply(weights_init_normal)\n",
    "        self.E_shared.apply(weights_init_normal)\n",
    "        self.G_f.apply(weights_init_normal)\n",
    "        self.D_f.apply(weights_init_normal)\n",
    "    \n",
    "    def _fake_branch(self, input_images):\n",
    "        embedding = self.E_shared(self.E_f(input_images))\n",
    "        generated = self.G_f(embedding)\n",
    "        return generated\n",
    "    \n",
    "    def fake_branch_generator(self, input_images, ground_truth):\n",
    "        generated = self._fake_branch(input_images)\n",
    "        generated_scores = self.D_f(generated)\n",
    "\n",
    "        losses = dict()\n",
    "        losses[\"branch_F_generator_loss\"] = gan_loss(generated_scores, None, for_generator=True)\n",
    "        losses[\"VGG_F_loss\"] = self.vgg_loss(generated, ground_truth) * self.lambda_vgg\n",
    "\n",
    "        return generated, losses\n",
    "\n",
    "    def fake_branch_discriminator(self, input_images, ground_truth):\n",
    "        with torch.no_grad():\n",
    "            generated = self._fake_branch(input_images)\n",
    "            generated = generated.detach()\n",
    "            generated.requires_grad_() # eh?\n",
    "\n",
    "        generated_scores = self.D_f(generated)\n",
    "        truth_scores = self.D_f(ground_truth)\n",
    "\n",
    "        losses = {\n",
    "            \"D_F_loss\": gan_loss(generated_scores, truth_scores, for_generator=False),\n",
    "            \"D_F_accuracy\": discriminator_accuracy(generated_scores.detach(), truth_scores.detach()), # eh? detach?\n",
    "        }\n",
    "        return generated, losses\n",
    "\n",
    "        \n",
    "network = MySuperNetwork().to(device)"
   ]
  },
  {
   "cell_type": "code",
   "execution_count": 27,
   "metadata": {
    "scrolled": true
   },
   "outputs": [
    {
     "name": "stdout",
     "output_type": "stream",
     "text": [
      "Conv2d\n",
      "ReLU\n",
      "Conv2d\n",
      "ReLU\n",
      "Conv2d\n",
      "ReLU\n",
      "Conv2d\n",
      "ReLU\n",
      "Conv2d\n",
      "ReLU\n",
      "Sequential\n",
      "DownsampleBlock\n",
      "Conv2d\n",
      "BatchNorm2d\n",
      "Conv2d\n",
      "BatchNorm2d\n",
      "ReLU\n",
      "ResBlk\n",
      "Conv2d\n",
      "BatchNorm2d\n",
      "Conv2d\n",
      "BatchNorm2d\n",
      "ReLU\n",
      "ResBlk\n",
      "Conv2d\n",
      "BatchNorm2d\n",
      "Conv2d\n",
      "BatchNorm2d\n",
      "ReLU\n",
      "ResBlk\n",
      "Conv2d\n",
      "BatchNorm2d\n",
      "Conv2d\n",
      "BatchNorm2d\n",
      "ReLU\n",
      "ResBlk\n",
      "Sequential\n",
      "Conv2d\n",
      "BatchNorm2d\n",
      "Conv2d\n",
      "BatchNorm2d\n",
      "ReLU\n",
      "ResBlk\n",
      "Conv2d\n",
      "BatchNorm2d\n",
      "Conv2d\n",
      "BatchNorm2d\n",
      "ReLU\n",
      "ResBlk\n",
      "Sequential\n",
      "Conv2d\n",
      "BatchNorm2d\n",
      "Conv2d\n",
      "BatchNorm2d\n",
      "ReLU\n",
      "ResBlk\n",
      "Conv2d\n",
      "BatchNorm2d\n",
      "Conv2d\n",
      "BatchNorm2d\n",
      "ReLU\n",
      "ResBlk\n",
      "BatchNorm2d\n",
      "ConvTranspose2d\n",
      "LeakyReLU\n",
      "BatchNorm2d\n",
      "ConvTranspose2d\n",
      "LeakyReLU\n",
      "BatchNorm2d\n",
      "ConvTranspose2d\n",
      "LeakyReLU\n",
      "BatchNorm2d\n",
      "ConvTranspose2d\n",
      "LeakyReLU\n",
      "BatchNorm2d\n",
      "ConvTranspose2d\n",
      "LeakyReLU\n",
      "Sequential\n",
      "Conv2d\n",
      "GeneratorFake\n",
      "Conv2d\n",
      "LeakyReLU\n",
      "Conv2d\n",
      "InstanceNorm2d\n",
      "LeakyReLU\n",
      "Conv2d\n",
      "InstanceNorm2d\n",
      "LeakyReLU\n",
      "Conv2d\n",
      "InstanceNorm2d\n",
      "LeakyReLU\n",
      "ZeroPad2d\n",
      "Conv2d\n",
      "Sequential\n",
      "Flatten\n",
      "Linear\n",
      "Sequential\n",
      "Discriminator\n"
     ]
    }
   ],
   "source": [
    "if opt.starting_epoch == 0:\n",
    "    network.init_weights()"
   ]
  },
  {
   "cell_type": "code",
   "execution_count": 28,
   "metadata": {},
   "outputs": [],
   "source": [
    "gan_optimizer, disc_optimizer = network.create_optimizers(opt)\n",
    "log_iter = 0"
   ]
  },
  {
   "cell_type": "code",
   "execution_count": 29,
   "metadata": {},
   "outputs": [],
   "source": [
    "discriminator_freq = 16"
   ]
  },
  {
   "cell_type": "code",
   "execution_count": 30,
   "metadata": {
    "pycharm": {
     "is_executing": true,
     "name": "#%%\n"
    },
    "scrolled": false
   },
   "outputs": [
    {
     "data": {
      "application/vnd.jupyter.widget-view+json": {
       "model_id": "79c9934aa218410dae70ee46f3c0dca2",
       "version_major": 2,
       "version_minor": 0
      },
      "text/plain": [
       "Epoch 0:   0%|          | 0/1356 [00:00<?, ?batch/s]"
      ]
     },
     "metadata": {},
     "output_type": "display_data"
    },
    {
     "data": {
      "application/vnd.jupyter.widget-view+json": {
       "model_id": "fdc0484b348f4483a2b087496a985391",
       "version_major": 2,
       "version_minor": 0
      },
      "text/plain": [
       "Epoch 1:   0%|          | 0/1356 [00:00<?, ?batch/s]"
      ]
     },
     "metadata": {},
     "output_type": "display_data"
    },
    {
     "data": {
      "application/vnd.jupyter.widget-view+json": {
       "model_id": "b3639196e7dc40e4b26462f84b5e1547",
       "version_major": 2,
       "version_minor": 0
      },
      "text/plain": [
       "Epoch 2:   0%|          | 0/1356 [00:00<?, ?batch/s]"
      ]
     },
     "metadata": {},
     "output_type": "display_data"
    },
    {
     "data": {
      "application/vnd.jupyter.widget-view+json": {
       "model_id": "37bdc311e788445999bfb8a85780bfcc",
       "version_major": 2,
       "version_minor": 0
      },
      "text/plain": [
       "Epoch 3:   0%|          | 0/1356 [00:00<?, ?batch/s]"
      ]
     },
     "metadata": {},
     "output_type": "display_data"
    },
    {
     "data": {
      "application/vnd.jupyter.widget-view+json": {
       "model_id": "0c02fd200613473fa006d8c52d87db48",
       "version_major": 2,
       "version_minor": 0
      },
      "text/plain": [
       "Epoch 4:   0%|          | 0/1356 [00:00<?, ?batch/s]"
      ]
     },
     "metadata": {},
     "output_type": "display_data"
    },
    {
     "data": {
      "application/vnd.jupyter.widget-view+json": {
       "model_id": "fa8e3dc04bf4424a943ebd3a977eba87",
       "version_major": 2,
       "version_minor": 0
      },
      "text/plain": [
       "Epoch 5:   0%|          | 0/1356 [00:00<?, ?batch/s]"
      ]
     },
     "metadata": {},
     "output_type": "display_data"
    },
    {
     "data": {
      "application/vnd.jupyter.widget-view+json": {
       "model_id": "91bca952cd4f4662b0c5d4e9b4d3c19d",
       "version_major": 2,
       "version_minor": 0
      },
      "text/plain": [
       "Epoch 6:   0%|          | 0/1356 [00:00<?, ?batch/s]"
      ]
     },
     "metadata": {},
     "output_type": "display_data"
    },
    {
     "data": {
      "application/vnd.jupyter.widget-view+json": {
       "model_id": "ef1c9a69be0d4743a12091270335715e",
       "version_major": 2,
       "version_minor": 0
      },
      "text/plain": [
       "Epoch 7:   0%|          | 0/1356 [00:00<?, ?batch/s]"
      ]
     },
     "metadata": {},
     "output_type": "display_data"
    },
    {
     "data": {
      "application/vnd.jupyter.widget-view+json": {
       "model_id": "b1799d6d009e4402a57d256167022115",
       "version_major": 2,
       "version_minor": 0
      },
      "text/plain": [
       "Epoch 8:   0%|          | 0/1356 [00:00<?, ?batch/s]"
      ]
     },
     "metadata": {},
     "output_type": "display_data"
    },
    {
     "data": {
      "application/vnd.jupyter.widget-view+json": {
       "model_id": "f51d343c52a04948b1b9abcac13a42ad",
       "version_major": 2,
       "version_minor": 0
      },
      "text/plain": [
       "Epoch 9:   0%|          | 0/1356 [00:00<?, ?batch/s]"
      ]
     },
     "metadata": {},
     "output_type": "display_data"
    },
    {
     "data": {
      "application/vnd.jupyter.widget-view+json": {
       "model_id": "b1b230d49b504334b1204f155c8fc0f5",
       "version_major": 2,
       "version_minor": 0
      },
      "text/plain": [
       "Epoch 10:   0%|          | 0/1356 [00:00<?, ?batch/s]"
      ]
     },
     "metadata": {},
     "output_type": "display_data"
    },
    {
     "data": {
      "application/vnd.jupyter.widget-view+json": {
       "model_id": "d9a2286299db4653a10638c1e2c2d092",
       "version_major": 2,
       "version_minor": 0
      },
      "text/plain": [
       "Epoch 11:   0%|          | 0/1356 [00:00<?, ?batch/s]"
      ]
     },
     "metadata": {},
     "output_type": "display_data"
    },
    {
     "ename": "KeyboardInterrupt",
     "evalue": "",
     "output_type": "error",
     "traceback": [
      "\u001b[0;31m---------------------------------------------------------------------------\u001b[0m",
      "\u001b[0;31mKeyboardInterrupt\u001b[0m                         Traceback (most recent call last)",
      "Input \u001b[0;32mIn [30]\u001b[0m, in \u001b[0;36m<cell line: 18>\u001b[0;34m()\u001b[0m\n\u001b[1;32m     27\u001b[0m     g_f_loss \u001b[38;5;241m=\u001b[39m \u001b[38;5;28msum\u001b[39m(losses_f\u001b[38;5;241m.\u001b[39mvalues())\n\u001b[1;32m     28\u001b[0m     g_f_loss\u001b[38;5;241m.\u001b[39mbackward()\n\u001b[0;32m---> 29\u001b[0m     \u001b[43mgan_optimizer\u001b[49m\u001b[38;5;241;43m.\u001b[39;49m\u001b[43mstep\u001b[49m\u001b[43m(\u001b[49m\u001b[43m)\u001b[49m\n\u001b[1;32m     30\u001b[0m \u001b[38;5;28;01melse\u001b[39;00m:\n\u001b[1;32m     31\u001b[0m     disc_optimizer\u001b[38;5;241m.\u001b[39mzero_grad()\n",
      "File \u001b[0;32m~/masters/venv/lib/python3.8/site-packages/torch/optim/optimizer.py:88\u001b[0m, in \u001b[0;36mOptimizer._hook_for_profile.<locals>.profile_hook_step.<locals>.wrapper\u001b[0;34m(*args, **kwargs)\u001b[0m\n\u001b[1;32m     86\u001b[0m profile_name \u001b[38;5;241m=\u001b[39m \u001b[38;5;124m\"\u001b[39m\u001b[38;5;124mOptimizer.step#\u001b[39m\u001b[38;5;132;01m{}\u001b[39;00m\u001b[38;5;124m.step\u001b[39m\u001b[38;5;124m\"\u001b[39m\u001b[38;5;241m.\u001b[39mformat(obj\u001b[38;5;241m.\u001b[39m\u001b[38;5;18m__class__\u001b[39m\u001b[38;5;241m.\u001b[39m\u001b[38;5;18m__name__\u001b[39m)\n\u001b[1;32m     87\u001b[0m \u001b[38;5;28;01mwith\u001b[39;00m torch\u001b[38;5;241m.\u001b[39mautograd\u001b[38;5;241m.\u001b[39mprofiler\u001b[38;5;241m.\u001b[39mrecord_function(profile_name):\n\u001b[0;32m---> 88\u001b[0m     \u001b[38;5;28;01mreturn\u001b[39;00m \u001b[43mfunc\u001b[49m\u001b[43m(\u001b[49m\u001b[38;5;241;43m*\u001b[39;49m\u001b[43margs\u001b[49m\u001b[43m,\u001b[49m\u001b[43m \u001b[49m\u001b[38;5;241;43m*\u001b[39;49m\u001b[38;5;241;43m*\u001b[39;49m\u001b[43mkwargs\u001b[49m\u001b[43m)\u001b[49m\n",
      "File \u001b[0;32m~/masters/venv/lib/python3.8/site-packages/torch/autograd/grad_mode.py:27\u001b[0m, in \u001b[0;36m_DecoratorContextManager.__call__.<locals>.decorate_context\u001b[0;34m(*args, **kwargs)\u001b[0m\n\u001b[1;32m     24\u001b[0m \u001b[38;5;129m@functools\u001b[39m\u001b[38;5;241m.\u001b[39mwraps(func)\n\u001b[1;32m     25\u001b[0m \u001b[38;5;28;01mdef\u001b[39;00m \u001b[38;5;21mdecorate_context\u001b[39m(\u001b[38;5;241m*\u001b[39margs, \u001b[38;5;241m*\u001b[39m\u001b[38;5;241m*\u001b[39mkwargs):\n\u001b[1;32m     26\u001b[0m     \u001b[38;5;28;01mwith\u001b[39;00m \u001b[38;5;28mself\u001b[39m\u001b[38;5;241m.\u001b[39mclone():\n\u001b[0;32m---> 27\u001b[0m         \u001b[38;5;28;01mreturn\u001b[39;00m \u001b[43mfunc\u001b[49m\u001b[43m(\u001b[49m\u001b[38;5;241;43m*\u001b[39;49m\u001b[43margs\u001b[49m\u001b[43m,\u001b[49m\u001b[43m \u001b[49m\u001b[38;5;241;43m*\u001b[39;49m\u001b[38;5;241;43m*\u001b[39;49m\u001b[43mkwargs\u001b[49m\u001b[43m)\u001b[49m\n",
      "File \u001b[0;32m~/masters/venv/lib/python3.8/site-packages/torch/optim/adam.py:141\u001b[0m, in \u001b[0;36mAdam.step\u001b[0;34m(self, closure)\u001b[0m\n\u001b[1;32m    138\u001b[0m             \u001b[38;5;66;03m# record the step after step update\u001b[39;00m\n\u001b[1;32m    139\u001b[0m             state_steps\u001b[38;5;241m.\u001b[39mappend(state[\u001b[38;5;124m'\u001b[39m\u001b[38;5;124mstep\u001b[39m\u001b[38;5;124m'\u001b[39m])\n\u001b[0;32m--> 141\u001b[0m     \u001b[43mF\u001b[49m\u001b[38;5;241;43m.\u001b[39;49m\u001b[43madam\u001b[49m\u001b[43m(\u001b[49m\u001b[43mparams_with_grad\u001b[49m\u001b[43m,\u001b[49m\n\u001b[1;32m    142\u001b[0m \u001b[43m           \u001b[49m\u001b[43mgrads\u001b[49m\u001b[43m,\u001b[49m\n\u001b[1;32m    143\u001b[0m \u001b[43m           \u001b[49m\u001b[43mexp_avgs\u001b[49m\u001b[43m,\u001b[49m\n\u001b[1;32m    144\u001b[0m \u001b[43m           \u001b[49m\u001b[43mexp_avg_sqs\u001b[49m\u001b[43m,\u001b[49m\n\u001b[1;32m    145\u001b[0m \u001b[43m           \u001b[49m\u001b[43mmax_exp_avg_sqs\u001b[49m\u001b[43m,\u001b[49m\n\u001b[1;32m    146\u001b[0m \u001b[43m           \u001b[49m\u001b[43mstate_steps\u001b[49m\u001b[43m,\u001b[49m\n\u001b[1;32m    147\u001b[0m \u001b[43m           \u001b[49m\u001b[43mamsgrad\u001b[49m\u001b[38;5;241;43m=\u001b[39;49m\u001b[43mgroup\u001b[49m\u001b[43m[\u001b[49m\u001b[38;5;124;43m'\u001b[39;49m\u001b[38;5;124;43mamsgrad\u001b[39;49m\u001b[38;5;124;43m'\u001b[39;49m\u001b[43m]\u001b[49m\u001b[43m,\u001b[49m\n\u001b[1;32m    148\u001b[0m \u001b[43m           \u001b[49m\u001b[43mbeta1\u001b[49m\u001b[38;5;241;43m=\u001b[39;49m\u001b[43mbeta1\u001b[49m\u001b[43m,\u001b[49m\n\u001b[1;32m    149\u001b[0m \u001b[43m           \u001b[49m\u001b[43mbeta2\u001b[49m\u001b[38;5;241;43m=\u001b[39;49m\u001b[43mbeta2\u001b[49m\u001b[43m,\u001b[49m\n\u001b[1;32m    150\u001b[0m \u001b[43m           \u001b[49m\u001b[43mlr\u001b[49m\u001b[38;5;241;43m=\u001b[39;49m\u001b[43mgroup\u001b[49m\u001b[43m[\u001b[49m\u001b[38;5;124;43m'\u001b[39;49m\u001b[38;5;124;43mlr\u001b[39;49m\u001b[38;5;124;43m'\u001b[39;49m\u001b[43m]\u001b[49m\u001b[43m,\u001b[49m\n\u001b[1;32m    151\u001b[0m \u001b[43m           \u001b[49m\u001b[43mweight_decay\u001b[49m\u001b[38;5;241;43m=\u001b[39;49m\u001b[43mgroup\u001b[49m\u001b[43m[\u001b[49m\u001b[38;5;124;43m'\u001b[39;49m\u001b[38;5;124;43mweight_decay\u001b[39;49m\u001b[38;5;124;43m'\u001b[39;49m\u001b[43m]\u001b[49m\u001b[43m,\u001b[49m\n\u001b[1;32m    152\u001b[0m \u001b[43m           \u001b[49m\u001b[43meps\u001b[49m\u001b[38;5;241;43m=\u001b[39;49m\u001b[43mgroup\u001b[49m\u001b[43m[\u001b[49m\u001b[38;5;124;43m'\u001b[39;49m\u001b[38;5;124;43meps\u001b[39;49m\u001b[38;5;124;43m'\u001b[39;49m\u001b[43m]\u001b[49m\u001b[43m,\u001b[49m\n\u001b[1;32m    153\u001b[0m \u001b[43m           \u001b[49m\u001b[43mmaximize\u001b[49m\u001b[38;5;241;43m=\u001b[39;49m\u001b[43mgroup\u001b[49m\u001b[43m[\u001b[49m\u001b[38;5;124;43m'\u001b[39;49m\u001b[38;5;124;43mmaximize\u001b[39;49m\u001b[38;5;124;43m'\u001b[39;49m\u001b[43m]\u001b[49m\u001b[43m)\u001b[49m\n\u001b[1;32m    154\u001b[0m \u001b[38;5;28;01mreturn\u001b[39;00m loss\n",
      "File \u001b[0;32m~/masters/venv/lib/python3.8/site-packages/torch/optim/_functional.py:105\u001b[0m, in \u001b[0;36madam\u001b[0;34m(params, grads, exp_avgs, exp_avg_sqs, max_exp_avg_sqs, state_steps, amsgrad, beta1, beta2, lr, weight_decay, eps, maximize)\u001b[0m\n\u001b[1;32m    103\u001b[0m     denom \u001b[38;5;241m=\u001b[39m (max_exp_avg_sqs[i]\u001b[38;5;241m.\u001b[39msqrt() \u001b[38;5;241m/\u001b[39m math\u001b[38;5;241m.\u001b[39msqrt(bias_correction2))\u001b[38;5;241m.\u001b[39madd_(eps)\n\u001b[1;32m    104\u001b[0m \u001b[38;5;28;01melse\u001b[39;00m:\n\u001b[0;32m--> 105\u001b[0m     denom \u001b[38;5;241m=\u001b[39m (\u001b[43mexp_avg_sq\u001b[49m\u001b[38;5;241;43m.\u001b[39;49m\u001b[43msqrt\u001b[49m\u001b[43m(\u001b[49m\u001b[43m)\u001b[49m\u001b[43m \u001b[49m\u001b[38;5;241;43m/\u001b[39;49m\u001b[43m \u001b[49m\u001b[43mmath\u001b[49m\u001b[38;5;241;43m.\u001b[39;49m\u001b[43msqrt\u001b[49m\u001b[43m(\u001b[49m\u001b[43mbias_correction2\u001b[49m\u001b[43m)\u001b[49m)\u001b[38;5;241m.\u001b[39madd_(eps)\n\u001b[1;32m    109\u001b[0m step_size \u001b[38;5;241m=\u001b[39m lr \u001b[38;5;241m/\u001b[39m bias_correction1\n\u001b[1;32m    110\u001b[0m param\u001b[38;5;241m.\u001b[39maddcdiv_(exp_avg, denom, value\u001b[38;5;241m=\u001b[39m\u001b[38;5;241m-\u001b[39mstep_size)\n",
      "\u001b[0;31mKeyboardInterrupt\u001b[0m: "
     ]
    }
   ],
   "source": [
    "# https://pytorch.org/tutorials/beginner/dcgan_faces_tutorial.html\n",
    "# https://github.com/hse-ds/iad-applied-ds/blob/master/2022/seminars/sem03/sem03-gan-task.ipynb\n",
    "# https://colab.research.google.com/github/yandexdataschool/mlhep2019/blob/master/notebooks/day-6/06_GAN_faces_solution.ipynb#scrollTo=-Z7YAPGxp2Xl\n",
    "\n",
    "losses_f = {}\n",
    "losses_d_f = {}\n",
    "\n",
    "for epoch in range(opt.starting_epoch, opt.total_epochs):\n",
    "    with tqdm.auto.tqdm(total=len(dataloader), unit=\"batch\", desc=f\"Epoch {epoch}\") as pbar:\n",
    "        for i, batch in enumerate(dataloader):\n",
    "            render_base = batch[\"render_base\"].to(device)\n",
    "            render_struct = batch[\"render_struct\"].to(device)\n",
    "            \n",
    "            if i % discriminator_freq != 0:\n",
    "                gan_optimizer.zero_grad()\n",
    "                generated_f, losses_f = network.fake_branch_generator(render_struct, render_base)\n",
    "                g_f_loss = sum(losses_f.values())\n",
    "                g_f_loss.backward()\n",
    "                gan_optimizer.step()\n",
    "            else:\n",
    "                disc_optimizer.zero_grad()\n",
    "                generated_f, losses_d_f = network.fake_branch_discriminator(render_struct, render_base)\n",
    "                losses_d_f[\"D_F_loss\"].backward()\n",
    "                disc_optimizer.step()\n",
    "                \n",
    "                if losses_d_f[\"D_F_accuracy\"].item() > 0.9 and discriminator_freq < 32:\n",
    "                    discriminator_freq *= 2\n",
    "                elif losses_d_f[\"D_F_accuracy\"].item() < 0.8 and discriminator_freq > 2:\n",
    "                    discriminator_freq /= 2\n",
    "\n",
    "            for d in [losses_f, losses_d_f]:\n",
    "                for key, value in d.items():\n",
    "                    writer.add_scalar(key, value.item(), log_iter)\n",
    "\n",
    "            if i % 20 == 0:\n",
    "                image_grid_to_writer(writer, generated_f, \"generated fake\", log_iter)\n",
    "                image_grid_to_writer(writer, render_base, \"true fake\", log_iter)\n",
    "\n",
    "            pbar.set_postfix(discriminator_freq=discriminator_freq)\n",
    "            pbar.update(1)\n",
    "            log_iter += 1"
   ]
  }
 ],
 "metadata": {
  "kernelspec": {
   "display_name": "Python 3 (ipykernel)",
   "language": "python",
   "name": "python3"
  },
  "language_info": {
   "codemirror_mode": {
    "name": "ipython",
    "version": 3
   },
   "file_extension": ".py",
   "mimetype": "text/x-python",
   "name": "python",
   "nbconvert_exporter": "python",
   "pygments_lexer": "ipython3",
   "version": "3.8.10"
  }
 },
 "nbformat": 4,
 "nbformat_minor": 1
}
