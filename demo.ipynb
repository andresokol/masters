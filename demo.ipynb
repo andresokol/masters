{
 "cells": [
  {
   "cell_type": "code",
   "execution_count": 1,
   "metadata": {
    "pycharm": {
     "name": "#%%\n"
    }
   },
   "outputs": [],
   "source": [
    "import os.path\n",
    "import time\n",
    "import re\n",
    "\n",
    "import torch\n",
    "import torch.nn as nn\n",
    "import torch.nn.functional as F"
   ]
  },
  {
   "cell_type": "code",
   "execution_count": 2,
   "metadata": {
    "pycharm": {
     "name": "#%%\n"
    }
   },
   "outputs": [],
   "source": [
    "# cuda_available = torch.cuda.is_available()\n",
    "# dev = torch.device(\"cuda\") if torch.cuda.is_available() else torch.device(\"cpu\")\n",
    "# device = \"cuda\" if torch.cuda.is_available() else \"cpu\"\n",
    "# Tensor = torch.cuda.FloatTensor if torch.cuda.is_available() else torch.Tensor\n",
    "# print(f\"Using {device} device\")\n",
    "# torch.cuda.empty_cache()\n",
    "Tensor = torch.Tensor\n",
    "device = torch.device(\"cpu\")"
   ]
  },
  {
   "cell_type": "code",
   "execution_count": 3,
   "metadata": {
    "pycharm": {
     "name": "#%%\n"
    }
   },
   "outputs": [],
   "source": [
    "# def conv3x3(in_planes: int, out_planes: int, stride: int = 1, groups: int = 1, dilation: int = 1) -> nn.Conv2d:\n",
    "#     \"\"\"3x3 convolution with padding\"\"\"\n",
    "#     return nn.Conv2d(\n",
    "#         in_planes,\n",
    "#         out_planes,\n",
    "#         kernel_size=3,\n",
    "#         stride=stride,\n",
    "#         padding=dilation,\n",
    "#         groups=groups,\n",
    "#         bias=False,\n",
    "#         dilation=dilation,\n",
    "#     )\n",
    "#\n",
    "#\n",
    "# def conv1x1(in_planes: int, out_planes: int, stride: int = 1) -> nn.Conv2d:\n",
    "#     \"\"\"1x1 convolution\"\"\"\n",
    "#     return nn.Conv2d(in_planes, out_planes, kernel_size=1, stride=stride, bias=False)"
   ]
  },
  {
   "cell_type": "code",
   "execution_count": 4,
   "outputs": [],
   "source": [
    "class DownsampleBlock(nn.Module):\n",
    "    def __init__(self):\n",
    "        super().__init__()\n",
    "\n",
    "        def _block():\n",
    "            return [\n",
    "                nn.Conv2d(3, 3, kernel_size=3, padding=1, stride=2),\n",
    "                nn.ReLU(),\n",
    "            ]\n",
    "\n",
    "        self.layers = nn.Sequential(\n",
    "            *_block(),\n",
    "            *_block(),\n",
    "            *_block(),\n",
    "            *_block(),\n",
    "            *_block(),\n",
    "        )\n",
    "\n",
    "    def forward(self, x: Tensor) -> Tensor:\n",
    "        return self.layers.forward(x)"
   ],
   "metadata": {
    "collapsed": false,
    "pycharm": {
     "name": "#%%\n"
    }
   }
  },
  {
   "cell_type": "code",
   "execution_count": 5,
   "metadata": {
    "pycharm": {
     "name": "#%%\n"
    }
   },
   "outputs": [],
   "source": [
    "# PyTorch version of ResNet\n",
    "# https://github.com/pytorch/vision/blob/cddad9ca3822011548e18342f52a3e9f4724c2dd/torchvision/models/resnet.py#L88\n",
    "\n",
    "\n",
    "class ResBlk(nn.Module):\n",
    "    def __init__(self) -> None:\n",
    "        super().__init__()\n",
    "        self.conv_1 = nn.Conv2d(3, 3, kernel_size=3, stride=1, padding=1)\n",
    "        self.batch_norm_1 = nn.BatchNorm2d(3)\n",
    "        self.conv_2 = nn.Conv2d(3, 3, kernel_size=3, stride=1, padding=1)\n",
    "        self.batch_norm_2 = nn.BatchNorm2d(3)\n",
    "        self.relu = nn.ReLU(inplace=True)\n",
    "\n",
    "    def forward(self, x: Tensor) -> Tensor:\n",
    "        out = self.conv_1(x)\n",
    "        out = self.batch_norm_1(out)\n",
    "        out = self.relu(out)\n",
    "\n",
    "        out = self.conv_2(out)\n",
    "        out = self.batch_norm_2(out)\n",
    "\n",
    "        out += x\n",
    "        out = self.relu(out)\n",
    "\n",
    "        return out"
   ]
  },
  {
   "cell_type": "code",
   "execution_count": 6,
   "outputs": [],
   "source": [
    "shared_layer_1, shared_layer_2 = ResBlk(), ResBlk()\n",
    "\n",
    "E_f = nn.Sequential(\n",
    "    DownsampleBlock(),\n",
    "    *(ResBlk() for _ in range(4)),\n",
    "    shared_layer_1,\n",
    "    shared_layer_2,\n",
    ").to(device)\n",
    "\n",
    "# E_r = nn.Sequential(\n",
    "#     DownsampleBlock(),\n",
    "#     *(ResBlk() for _ in range(4)),\n",
    "#     shared_layer_1,\n",
    "#     shared_layer_2,\n",
    "# ).to(device)"
   ],
   "metadata": {
    "collapsed": false,
    "pycharm": {
     "name": "#%%\n"
    }
   }
  },
  {
   "cell_type": "code",
   "execution_count": 7,
   "outputs": [],
   "source": [
    "class GeneratorFake(nn.Module):\n",
    "    def __init__(self):\n",
    "        super().__init__()\n",
    "\n",
    "        def _upscale_conv():\n",
    "            return (\n",
    "                nn.ConvTranspose2d(3, 3, kernel_size=3, stride=2, padding=1, output_padding=1),  # is this correct?\n",
    "                nn.LeakyReLU(),\n",
    "            )\n",
    "\n",
    "        self.resblk1 = ResBlk()\n",
    "        self.resblk2 = ResBlk()\n",
    "        self.upscale_layers = nn.Sequential(\n",
    "            *_upscale_conv(),\n",
    "            *_upscale_conv(),\n",
    "            *_upscale_conv(),\n",
    "            *_upscale_conv(),\n",
    "            *_upscale_conv(),\n",
    "        )\n",
    "\n",
    "        self.out_conv = nn.Conv2d(3, 3, kernel_size=3, stride=1, padding=1)\n",
    "\n",
    "    def forward(self, x: Tensor) -> Tensor:\n",
    "        out = self.resblk1(x)\n",
    "        out = self.resblk2(out)\n",
    "        out = self.upscale_layers(out)\n",
    "        # print(out.shape)\n",
    "\n",
    "        # for i in range(5):\n",
    "        #     out = self.upscale_layers[i](out)\n",
    "        # print(out.shape)\n",
    "\n",
    "        return self.out_conv(out)\n",
    "\n",
    "\n",
    "G_f = GeneratorFake().to(device)\n",
    "# G_f = nn.Sequential(\n",
    "#     *(ResBlk() for _ in range(2)),\n",
    "#     *(nn.ConvTranspose2d(3, 3, kernel_size=3, stride=2, padding=1) for _ in range(5)),\n",
    "#     # nn.Conv2d(3, 3, kernel_size=3, stride=1, padding=1),\n",
    "# )"
   ],
   "metadata": {
    "collapsed": false,
    "pycharm": {
     "name": "#%%\n"
    }
   }
  },
  {
   "cell_type": "code",
   "execution_count": 8,
   "outputs": [],
   "source": [
    "# from https://github.com/NVlabs/SPADE\n",
    "\n",
    "# Creates SPADE normalization layer based on the given configuration\n",
    "# SPADE consists of two steps. First, it normalizes the activations using\n",
    "# your favorite normalization method, such as Batch Norm or Instance Norm.\n",
    "# Second, it applies scale and bias to the normalized output, conditioned on\n",
    "# the segmentation map.\n",
    "# The format of |config_text| is spade(norm)(ks), where\n",
    "# (norm) specifies the type of parameter-free normalization.\n",
    "#       (e.g. syncbatch, batch, instance)\n",
    "# (ks) specifies the size of kernel in the SPADE module (e.g. 3x3)\n",
    "# Example |config_text| will be spadesyncbatch3x3, or spadeinstance5x5.\n",
    "# Also, the other arguments are\n",
    "# |norm_nc|: the #channels of the normalized activations, hence the output dim of SPADE\n",
    "# |label_nc|: the #channels of the input semantic map, hence the input dim of SPADE\n",
    "class SPADE(nn.Module):\n",
    "    def __init__(self, config_text, norm_nc, label_nc):\n",
    "        super().__init__()\n",
    "\n",
    "        assert config_text.startswith('spade')\n",
    "        parsed = re.search('spade(\\D+)(\\d)x\\d', config_text)\n",
    "        param_free_norm_type = str(parsed.group(1))\n",
    "        ks = int(parsed.group(2))\n",
    "\n",
    "        if param_free_norm_type == 'instance':\n",
    "            self.param_free_norm = nn.InstanceNorm2d(norm_nc, affine=False)\n",
    "        # elif param_free_norm_type == 'syncbatch':\n",
    "        #     self.param_free_norm = SynchronizedBatchNorm2d(norm_nc, affine=False)\n",
    "        elif param_free_norm_type == 'batch':\n",
    "            self.param_free_norm = nn.BatchNorm2d(norm_nc, affine=False)\n",
    "        else:\n",
    "            raise ValueError('%s is not a recognized param-free norm type in SPADE'\n",
    "                             % param_free_norm_type)\n",
    "\n",
    "        # The dimension of the intermediate embedding space. Yes, hardcoded.\n",
    "        nhidden = 128\n",
    "\n",
    "        pw = ks // 2\n",
    "        self.mlp_shared = nn.Sequential(\n",
    "            nn.Conv2d(label_nc, nhidden, kernel_size=ks, padding=pw),\n",
    "            nn.ReLU()\n",
    "        )\n",
    "        self.mlp_gamma = nn.Conv2d(nhidden, norm_nc, kernel_size=ks, padding=pw)\n",
    "        self.mlp_beta = nn.Conv2d(nhidden, norm_nc, kernel_size=ks, padding=pw)\n",
    "\n",
    "    def forward(self, x, segmap):\n",
    "\n",
    "        # Part 1. generate parameter-free normalized activations\n",
    "        normalized = self.param_free_norm(x)\n",
    "\n",
    "        # Part 2. produce scaling and bias conditioned on semantic map\n",
    "        segmap = F.interpolate(segmap, size=x.size()[2:], mode='nearest')\n",
    "        actv = self.mlp_shared(segmap)\n",
    "        gamma = self.mlp_gamma(actv)\n",
    "        beta = self.mlp_beta(actv)\n",
    "\n",
    "        # apply scale and bias\n",
    "        out = normalized * (1 + gamma) + beta\n",
    "\n",
    "        return out\n",
    "\n",
    "\n",
    "# ResNet block that uses SPADE.\n",
    "# It differs from the ResNet block of pix2pixHD in that\n",
    "# it takes in the segmentation map as input, learns the skip connection if necessary,\n",
    "# and applies normalization first and then convolution.\n",
    "# This architecture seemed like a standard architecture for unconditional or\n",
    "# class-conditional GAN architecture using residual block.\n",
    "# The code was inspired from https://github.com/LMescheder/GAN_stability.\n",
    "class SPADEResnetBlock(nn.Module):\n",
    "    def __init__(self, fin, fout, opt):\n",
    "        super().__init__()\n",
    "        # Attributes\n",
    "        self.learned_shortcut = (fin != fout)\n",
    "        fmiddle = min(fin, fout)\n",
    "\n",
    "        # create conv layers\n",
    "        self.conv_0 = nn.Conv2d(fin, fmiddle, kernel_size=3, padding=1)\n",
    "        self.conv_1 = nn.Conv2d(fmiddle, fout, kernel_size=3, padding=1)\n",
    "        if self.learned_shortcut:\n",
    "            self.conv_s = nn.Conv2d(fin, fout, kernel_size=1, bias=False)\n",
    "\n",
    "        # apply spectral norm if specified\n",
    "        # if 'spectral' in opt.norm_G:\n",
    "        #     self.conv_0 = spectral_norm(self.conv_0)\n",
    "        #     self.conv_1 = spectral_norm(self.conv_1)\n",
    "        #     if self.learned_shortcut:\n",
    "        #         self.conv_s = spectral_norm(self.conv_s)\n",
    "\n",
    "        # define normalization layers\n",
    "        spade_config_str = opt.norm_G.replace('spectral', '')\n",
    "        self.norm_0 = SPADE(spade_config_str, fin, opt.semantic_nc)\n",
    "        self.norm_1 = SPADE(spade_config_str, fmiddle, opt.semantic_nc)\n",
    "        if self.learned_shortcut:\n",
    "            self.norm_s = SPADE(spade_config_str, fin, opt.semantic_nc)\n",
    "\n",
    "    # note the resnet block with SPADE also takes in |seg|,\n",
    "    # the semantic segmentation map as input\n",
    "    def forward(self, x, seg):\n",
    "        x_s = self.shortcut(x, seg)\n",
    "\n",
    "        dx = self.conv_0(self.actvn(self.norm_0(x, seg)))\n",
    "        dx = self.conv_1(self.actvn(self.norm_1(dx, seg)))\n",
    "\n",
    "        out = x_s + dx\n",
    "\n",
    "        return out\n",
    "\n",
    "    def shortcut(self, x, seg):\n",
    "        if self.learned_shortcut:\n",
    "            x_s = self.conv_s(self.norm_s(x, seg))\n",
    "        else:\n",
    "            x_s = x\n",
    "        return x_s\n",
    "\n",
    "    def actvn(self, x):\n",
    "        return F.leaky_relu(x, 2e-1)"
   ],
   "metadata": {
    "collapsed": false,
    "pycharm": {
     "name": "#%%\n"
    }
   }
  },
  {
   "cell_type": "code",
   "execution_count": 9,
   "outputs": [],
   "source": [
    "# class GeneratorReal(nn.Module):\n",
    "#     def __init__(self):\n",
    "#         super().__init__()\n",
    "#\n",
    "#         self.resblk1 = ResBlk()\n",
    "#         self.resblk2 = ResBlk()\n",
    "#\n",
    "#         self.spade1 = SPADEResnetBlock()\n",
    "#         self.spade2 = SPADEResnetBlock()\n",
    "#         self.spade3 = SPADEResnetBlock()\n",
    "#         self.spade4 = SPADEResnetBlock()\n",
    "#         self.spade5 = SPADEResnetBlock()\n"
   ],
   "metadata": {
    "collapsed": false,
    "pycharm": {
     "name": "#%%\n"
    }
   }
  },
  {
   "cell_type": "code",
   "execution_count": 10,
   "outputs": [],
   "source": [
    "# VGG architecter, used for the perceptual loss using a pretrained VGG network\n",
    "class VGG19(torch.nn.Module):\n",
    "    def __init__(self, requires_grad=False):\n",
    "        super().__init__()\n",
    "        vgg_pretrained_features = torchvision.models.vgg19(pretrained=True).features\n",
    "        self.slice1 = torch.nn.Sequential()\n",
    "        self.slice2 = torch.nn.Sequential()\n",
    "        self.slice3 = torch.nn.Sequential()\n",
    "        self.slice4 = torch.nn.Sequential()\n",
    "        self.slice5 = torch.nn.Sequential()\n",
    "        for x in range(2):\n",
    "            self.slice1.add_module(str(x), vgg_pretrained_features[x])\n",
    "        for x in range(2, 7):\n",
    "            self.slice2.add_module(str(x), vgg_pretrained_features[x])\n",
    "        for x in range(7, 12):\n",
    "            self.slice3.add_module(str(x), vgg_pretrained_features[x])\n",
    "        for x in range(12, 21):\n",
    "            self.slice4.add_module(str(x), vgg_pretrained_features[x])\n",
    "        for x in range(21, 30):\n",
    "            self.slice5.add_module(str(x), vgg_pretrained_features[x])\n",
    "        if not requires_grad:\n",
    "            for param in self.parameters():\n",
    "                param.requires_grad = False\n",
    "\n",
    "    def forward(self, X):\n",
    "        h_relu1 = self.slice1(X)\n",
    "        h_relu2 = self.slice2(h_relu1)\n",
    "        h_relu3 = self.slice3(h_relu2)\n",
    "        h_relu4 = self.slice4(h_relu3)\n",
    "        h_relu5 = self.slice5(h_relu4)\n",
    "        out = [h_relu1, h_relu2, h_relu3, h_relu4, h_relu5]\n",
    "        return out\n",
    "\n",
    "# Perceptual loss that uses a pretrained VGG network\n",
    "class VGGLoss(nn.Module):\n",
    "    def __init__(self, gpu_ids):\n",
    "        super(VGGLoss, self).__init__()\n",
    "        self.vgg = VGG19().to(device)\n",
    "        self.criterion = nn.L1Loss()\n",
    "        self.weights = [1.0 / 32, 1.0 / 16, 1.0 / 8, 1.0 / 4, 1.0]\n",
    "\n",
    "    def forward(self, x, y):\n",
    "        x_vgg, y_vgg = self.vgg(x), self.vgg(y)\n",
    "        loss = 0\n",
    "        for i in range(len(x_vgg)):\n",
    "            loss += self.weights[i] * self.criterion(x_vgg[i], y_vgg[i].detach())\n",
    "        return loss"
   ],
   "metadata": {
    "collapsed": false,
    "pycharm": {
     "name": "#%%\n"
    }
   }
  },
  {
   "cell_type": "code",
   "execution_count": 11,
   "outputs": [],
   "source": [
    "# https://github.com/eriklindernoren/PyTorch-GAN/blob/master/implementations/stargan/models.py\n",
    "\n",
    "class Discriminator(nn.Module):\n",
    "    def __init__(self):\n",
    "        super().__init__()\n",
    "\n",
    "        def discriminator_block(in_filters, out_filters, normalization=True):\n",
    "            layers = [nn.Conv2d(in_filters, out_filters, 4, stride=2, padding=1)]\n",
    "            if normalization:\n",
    "                layers.append(nn.InstanceNorm2d(out_filters))\n",
    "            layers.append(nn.LeakyReLU(0.2, inplace=True))\n",
    "            return layers\n",
    "\n",
    "        self.layers = nn.Sequential(\n",
    "            *discriminator_block(3, 64, normalization=False),\n",
    "            *discriminator_block(64, 128),\n",
    "            *discriminator_block(128, 256),\n",
    "            *discriminator_block(256, 512),\n",
    "            nn.ZeroPad2d((1, 0, 1, 0)),\n",
    "            nn.Conv2d(512, 1, kernel_size=4, padding=1, bias=False),\n",
    "            nn.Flatten(),\n",
    "            nn.Linear(1024, 1),\n",
    "        )\n",
    "\n",
    "    def forward(self, img: Tensor) -> Tensor:\n",
    "        # combined = torch.cat((img_a, img_b), dim=1)\n",
    "        # out = img\n",
    "        # # print(\"Discriminator start\", out.shape)\n",
    "        #\n",
    "        # for layer in self.layers:\n",
    "        #     out = layer(out)\n",
    "        #     # print(layer, out.shape)\n",
    "\n",
    "        return self.layers(img)\n",
    "\n",
    "\n",
    "D_f = Discriminator().to(device)"
   ],
   "metadata": {
    "collapsed": false,
    "pycharm": {
     "name": "#%%\n"
    }
   }
  },
  {
   "cell_type": "code",
   "execution_count": 12,
   "outputs": [],
   "source": [
    "# class EmbeddingDiscriminator(nn.Module):\n",
    "#     def __init__(self):\n",
    "#         super().__init__()\n",
    "#\n",
    "#         self.layers = nn.Sequential(\n",
    "#             nn.Flatten(),\n",
    "#             nn.Linear(3 * 16 * 16),\n",
    "#             nn.Linear()\n",
    "#         )"
   ],
   "metadata": {
    "collapsed": false,
    "pycharm": {
     "name": "#%%\n"
    }
   }
  },
  {
   "cell_type": "code",
   "execution_count": 13,
   "outputs": [],
   "source": [
    "class Options:\n",
    "    img_height = 512\n",
    "    img_width = 512\n",
    "    learning_rate = 0.0001  # from paper\n",
    "    starting_epoch = 0\n",
    "    total_epochs = 10\n",
    "    batch_size = 8\n",
    "    cpu_count = 4\n",
    "\n",
    "\n",
    "opt = Options()"
   ],
   "metadata": {
    "collapsed": false,
    "pycharm": {
     "name": "#%%\n"
    }
   }
  },
  {
   "cell_type": "code",
   "execution_count": 14,
   "outputs": [],
   "source": [
    "from torch.utils.data import Dataset\n",
    "from PIL import Image\n",
    "import numpy as np\n",
    "import torchvision.transforms as transforms\n",
    "\n",
    "FILE_ROOT = \"/home/andresokol/code/mastersdata\"\n",
    "FFHQ_DIR = f\"{FILE_ROOT}/ffhq-dataset/images1024x1024\"\n",
    "PREPARED_ROOT = f\"{FILE_ROOT}/prepared\"\n",
    "RENDERED_ROOT = f\"{FILE_ROOT}/rendered\"\n",
    "\n",
    "\n",
    "class ImageDataset(Dataset):\n",
    "    transform = transforms.Compose([\n",
    "        transforms.Resize((opt.img_height, opt.img_width), transforms.InterpolationMode.BICUBIC),\n",
    "        transforms.ToTensor(),\n",
    "        transforms.Normalize((0.5, 0.5, 0.5), (0.5, 0.5, 0.5)),\n",
    "    ])\n",
    "\n",
    "    def __init__(self, mode=\"train\"):\n",
    "        self.files = []\n",
    "\n",
    "        for i in range(70):\n",
    "            for j in range(1000):\n",
    "                part = f\"{i:02}000/{i:02}{j:03}\"\n",
    "                if os.path.exists(f\"{FFHQ_DIR}/{part}.png\"):\n",
    "                    if os.path.exists(f\"{RENDERED_ROOT}/{part}_base.png\"):\n",
    "                        if os.path.exists(f\"{RENDERED_ROOT}/{part}_structure.png\"):\n",
    "                            self.files.append(part)\n",
    "\n",
    "        print(f\"Read {len(self.files)} images\")\n",
    "        # self.files = sorted(glob.glob(os.path.join(root, mode) + \"/*.*\"))\n",
    "        # if mode == \"train\":\n",
    "        #     self.files.extend(sorted(glob.glob(os.path.join(root, \"test\") + \"/*.*\")))\n",
    "\n",
    "    def __getitem__(self, index):\n",
    "        part = self.files[index % len(self.files)]\n",
    "        render_base = Image.open(f\"{RENDERED_ROOT}/{part}_base.png\").convert(\"RGB\")\n",
    "        render_struct = Image.open(f\"{RENDERED_ROOT}/{part}_structure.png\").convert(\"RGB\")\n",
    "        # img = Image.open(self.files[index % len(self.files)])\n",
    "        # w, h = img.size\n",
    "        # img_A = img.crop((0, 0, w / 2, h))\n",
    "        # img_B = img.crop((w / 2, 0, w, h))\n",
    "\n",
    "        # if np.random.random() < 0.5:\n",
    "        #     img_A = Image.fromarray(np.array(img_A)[:, ::-1, :], \"RGB\")\n",
    "        #     img_B = Image.fromarray(np.array(img_B)[:, ::-1, :], \"RGB\")\n",
    "\n",
    "        # img_A = self.transform(img_A)\n",
    "        # img_B = self.transform(img_B)\n",
    "\n",
    "        return {\n",
    "            \"render_base\": self.transform(render_base),\n",
    "            \"render_struct\": self.transform(render_struct),\n",
    "        }\n",
    "\n",
    "    def __len__(self):\n",
    "        return len(self.files)"
   ],
   "metadata": {
    "collapsed": false,
    "pycharm": {
     "name": "#%%\n"
    }
   }
  },
  {
   "cell_type": "code",
   "execution_count": 15,
   "outputs": [
    {
     "name": "stdout",
     "output_type": "stream",
     "text": [
      "Read 19985 images\n"
     ]
    }
   ],
   "source": [
    "from torch.utils.data import DataLoader\n",
    "\n",
    "dataloader = DataLoader(\n",
    "    ImageDataset(),\n",
    "    batch_size=opt.batch_size,\n",
    "    num_workers=opt.cpu_count,\n",
    "    shuffle=True,\n",
    ")"
   ],
   "metadata": {
    "collapsed": false,
    "pycharm": {
     "name": "#%%\n"
    }
   }
  },
  {
   "cell_type": "code",
   "execution_count": 16,
   "outputs": [],
   "source": [
    "from torch.utils.tensorboard import SummaryWriter\n",
    "\n",
    "writer = SummaryWriter()"
   ],
   "metadata": {
    "collapsed": false,
    "pycharm": {
     "name": "#%%\n"
    }
   }
  },
  {
   "cell_type": "code",
   "execution_count": 17,
   "outputs": [],
   "source": [
    "def weights_init_normal(m):\n",
    "    classname = m.__class__.__name__\n",
    "    if classname.find(\"Conv\") != -1:\n",
    "        torch.nn.init.normal_(m.weight.data, 0.0, 0.02)\n",
    "\n",
    "\n",
    "# eh?\n",
    "if opt.starting_epoch == 0:\n",
    "    E_f.apply(weights_init_normal)\n",
    "    G_f.apply(weights_init_normal)\n",
    "    D_f.apply(weights_init_normal)"
   ],
   "metadata": {
    "collapsed": false,
    "pycharm": {
     "name": "#%%\n"
    }
   }
  },
  {
   "cell_type": "code",
   "execution_count": 18,
   "outputs": [],
   "source": [
    "optimizer_F = torch.optim.Adam([\n",
    "    {\"params\": E_f.parameters()},\n",
    "    {\"params\": G_f.parameters()},\n",
    "], lr=opt.learning_rate)\n",
    "optimizer_D_F = torch.optim.Adam(D_f.parameters(), lr=opt.learning_rate)"
   ],
   "metadata": {
    "collapsed": false,
    "pycharm": {
     "name": "#%%\n"
    }
   }
  },
  {
   "cell_type": "code",
   "execution_count": null,
   "outputs": [
    {
     "name": "stderr",
     "output_type": "stream",
     "text": [
      "Downloading: \"https://download.pytorch.org/models/vgg19-dcbb9e9d.pth\" to /home/andresokol/.cache/torch/hub/checkpoints/vgg19-dcbb9e9d.pth\n"
     ]
    },
    {
     "data": {
      "text/plain": "  0%|          | 0.00/548M [00:00<?, ?B/s]",
      "application/vnd.jupyter.widget-view+json": {
       "version_major": 2,
       "version_minor": 0,
       "model_id": "8ee70279a3fd4f7d81e5626491e3f248"
      }
     },
     "metadata": {},
     "output_type": "display_data"
    },
    {
     "data": {
      "text/plain": "Epoch 0:   0%|          | 0/2499 [00:00<?, ?batch/s]",
      "application/vnd.jupyter.widget-view+json": {
       "version_major": 2,
       "version_minor": 0,
       "model_id": "d6e2aa7b012e442abd8522dbc98fa619"
      }
     },
     "metadata": {},
     "output_type": "display_data"
    }
   ],
   "source": [
    "import torchvision\n",
    "import tqdm\n",
    "\n",
    "prev_time = time.time()\n",
    "\n",
    "# https://pytorch.org/tutorials/beginner/dcgan_faces_tutorial.html\n",
    "# https://github.com/hse-ds/iad-applied-ds/blob/master/2022/seminars/sem03/sem03-gan-task.ipynb\n",
    "# https://colab.research.google.com/github/yandexdataschool/mlhep2019/blob/master/notebooks/day-6/06_GAN_faces_solution.ipynb#scrollTo=-Z7YAPGxp2Xl\n",
    "\n",
    "# branch_F_loss = Tensor([0])\n",
    "# D_f_loss = Tensor([0])\n",
    "\n",
    "branch_F_loss, D_f_loss = None, None\n",
    "\n",
    "vgg_loss = VGGLoss(None)\n",
    "\n",
    "for epoch in range(opt.starting_epoch, opt.total_epochs):\n",
    "    with tqdm.auto.tqdm(total=len(dataloader), unit=\"batch\", desc=f\"Epoch {epoch}\") as pbar:\n",
    "        for i, batch in enumerate(dataloader):\n",
    "            # Model inputs\n",
    "            render_base = batch[\"render_base\"].to(device)\n",
    "            render_struct = batch[\"render_struct\"].to(device)\n",
    "\n",
    "            embedding = E_f(render_struct)\n",
    "            generated_f = G_f(embedding)\n",
    "\n",
    "            # pred_f_generated = D_f(generated_f)\n",
    "            # pred_f_truth = D_f(render_base)\n",
    "\n",
    "            if i % 2 == 0:\n",
    "                # Train Generator\n",
    "                optimizer_F.zero_grad()\n",
    "                branch_F_loss = F.logsigmoid(-D_f(generated_f)).mean()\n",
    "                branch_F_loss.backward()\n",
    "                optimizer_F.step()\n",
    "\n",
    "                writer.add_scalar('Branch_F loss', branch_F_loss.item(), i)\n",
    "            else:\n",
    "                optimizer_D_F.zero_grad()\n",
    "\n",
    "                D_f_loss = -F.logsigmoid(D_f(render_base)).mean() - F.logsigmoid(-D_f(generated_f)).mean() - vgg_loss(render_base, generated_f)\n",
    "                D_f_loss.backward()\n",
    "                optimizer_D_F.step()\n",
    "\n",
    "                writer.add_scalar('D_f loss', D_f_loss.item(), i)\n",
    "\n",
    "            grid = torchvision.utils.make_grid(render_struct)\n",
    "            writer.add_image('images', grid, i)\n",
    "            if branch_F_loss and D_f_loss:\n",
    "                pbar.set_postfix(loss_D_f=D_f_loss.item(), loss_F=branch_F_loss.item())\n",
    "            pbar.update(1)"
   ],
   "metadata": {
    "collapsed": false,
    "pycharm": {
     "name": "#%%\n",
     "is_executing": true
    }
   }
  },
  {
   "cell_type": "code",
   "execution_count": null,
   "outputs": [],
   "source": [
    "nn.BatchNorm1d()"
   ],
   "metadata": {
    "collapsed": false,
    "pycharm": {
     "name": "#%%\n",
     "is_executing": true
    }
   }
  }
 ],
 "metadata": {
  "kernelspec": {
   "display_name": "Python 3 (ipykernel)",
   "language": "python",
   "name": "python3"
  },
  "language_info": {
   "codemirror_mode": {
    "name": "ipython",
    "version": 3
   },
   "file_extension": ".py",
   "mimetype": "text/x-python",
   "name": "python",
   "nbconvert_exporter": "python",
   "pygments_lexer": "ipython3",
   "version": "3.8.10"
  }
 },
 "nbformat": 4,
 "nbformat_minor": 1
}